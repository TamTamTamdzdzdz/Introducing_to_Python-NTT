{
 "cells": [
  {
   "cell_type": "markdown",
   "metadata": {},
   "source": [
    "# Question 3:\n",
    "Write a class **Student** with the following specifications:\n",
    "\n",
    "\\- Data Attributes: name, id, grade\n",
    "\n",
    "\\- Methods:\n",
    "\n",
    "- **\\_\\_init\\_\\_**: construct a student object\n",
    "- **\\_\\_str\\_\\_**: print a student's info\n",
    "- **\\_\\_lt\\_\\_**: return true if the grade of the first student is less than the grade of the second one.\n",
    "- **\\_\\_eq\\_\\_**: two students are the same if they have the same id\n",
    "- **GradeType**: return 'Excellent' if grade >= 3.6, 'Good' if 3.2 <= grade < 3.6, 'Fair' if 2.5 <= grade < 3.2, 'Poor' otherwise."
   ]
  },
  {
   "cell_type": "code",
   "execution_count": 1,
   "metadata": {},
   "outputs": [
    {
     "name": "stdout",
     "output_type": "stream",
     "text": [
      "Name: Nguyen Van An\n",
      "ID: 20201000\n",
      "Grade: 3.75\n",
      "True\n",
      "True\n",
      "Excellent\n",
      "Fair\n"
     ]
    }
   ],
   "source": [
    "class Student:\n",
    "    def __init__(self,name,id,grade) -> None:\n",
    "        self.name=name\n",
    "        self.id=id\n",
    "        self.grade=grade\n",
    "    def __str__(self) -> str:\n",
    "        return 'Name: {}\\nID: {}\\nGrade: {}'.format(self.name,self.id,self.grade)\n",
    "    def __lt__(self,other):\n",
    "        return self.grade<other.grade\n",
    "    def __eq__(self, __value: object) -> bool:\n",
    "        return self.id==__value.id\n",
    "    def GradeType(self):\n",
    "        if self.grade>=3.6:\n",
    "            return 'Excellent'\n",
    "        elif self.grade>=3.2:\n",
    "            return 'Good'\n",
    "        elif self.grade>=2.5:\n",
    "            return 'Fair'\n",
    "        else:\n",
    "            return 'Poor'\n",
    "    \n",
    "\n",
    "s1 = Student('Nguyen Van An', 20201000, 3.75)\n",
    "s2 = Student('Le Van Toan', 20202345, 2.80)\n",
    "s3 = Student('Tran Thi Dung', 20201000, 3.12)\n",
    "print(s1)\n",
    "print(s2 < s1 and s3 < s1)\n",
    "print(s1 == s3)\n",
    "print(s1.GradeType())\n",
    "print(s2.GradeType())"
   ]
  },
  {
   "cell_type": "code",
   "execution_count": 3,
   "metadata": {},
   "outputs": [
    {
     "name": "stdout",
     "output_type": "stream",
     "text": [
      "3\n"
     ]
    }
   ],
   "source": [
    "a,b=input().split()\n",
    "print(a)"
   ]
  },
  {
   "cell_type": "code",
   "execution_count": null,
   "metadata": {},
   "outputs": [],
   "source": []
  }
 ],
 "metadata": {
  "kernelspec": {
   "display_name": "base",
   "language": "python",
   "name": "python3"
  },
  "language_info": {
   "codemirror_mode": {
    "name": "ipython",
    "version": 3
   },
   "file_extension": ".py",
   "mimetype": "text/x-python",
   "name": "python",
   "nbconvert_exporter": "python",
   "pygments_lexer": "ipython3",
   "version": "3.10.9"
  },
  "orig_nbformat": 4
 },
 "nbformat": 4,
 "nbformat_minor": 2
}
